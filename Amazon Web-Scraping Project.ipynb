{
 "cells": [
  {
   "cell_type": "code",
   "execution_count": 65,
   "id": "9747ea39-d1e6-4981-bce9-652ef1c915ec",
   "metadata": {},
   "outputs": [],
   "source": [
    "from bs4 import BeautifulSoup\n",
    "import requests\n",
    "import datetime\n",
    "import time"
   ]
  },
  {
   "cell_type": "code",
   "execution_count": 107,
   "id": "520e98e7-3212-4980-a099-efe53808a3ef",
   "metadata": {},
   "outputs": [
    {
     "name": "stdout",
     "output_type": "stream",
     "text": [
      "Apple iPhone 15, 128GB, Green (Renewed)\n",
      "$1,399.00\n",
      "4.6\n"
     ]
    }
   ],
   "source": [
    " #Connect to website\n",
    "# For user agent: https://httpbin.org/get go to this website\n",
    "\n",
    "URL='https://www.amazon.ca/Apple-iPhone-128GB-Green-Renewed/dp/B0CMPMTL69/ref=sr_1_2?crid=UXP6U4SCGKRV&dib=eyJ2IjoiMSJ9.txo3w1r9hJwjpQx7HR49HfVUeRn_QiZ_vw99sEI3FV50phLvF58jP8UG3A6msHvDzStGB1OblA9fsraOzrEFDxduW45iOt8ETZPyQbd8iXBHq__Aax0Twnsc1xAHGjyS2LmNcl22YgpROhanNlfJnj4px-mXv-eKeq-ZoUei5Otj65wgcmA2H68ZYFzgdn6bp6RL8rTqlByx4fjIfyHBwHUOWdxnguzPzlJhKriQ6_3PEve03O1FvPIK-N0_A4MoOmLxhPJVF_SFYJmBFXAbeLZokKi_IITVbFKY108wEhc.OAlaNP4H70bkfst4cn1Linu8tTgmrPgOP3IZxaTfuv8&dib_tag=se&keywords=Iphone%2B16&qid=1731290432&sprefix=iphone%2B16%2Caps%2C149&sr=8-2&th=1'\n",
    "\n",
    "header= {\"User-Agent\" : \"Mozilla/5.0 (Macintosh; Intel Mac OS X 10_15_7) AppleWebKit/537.36 (KHTML, like Gecko) Chrome/129.0.0.0 Safari/537.36\", \"Accept-Encoding\":\"gzip, deflate\", \"Accept\":\"text/html,application/xhtml+xml,application/xml;q=0.9,*/*;q=0.8\", \"DNT\":\"1\",\"Connection\":\"close\", \"Upgrade-Insecure-Requests\":\"1\"}\n",
    "\n",
    "page=requests.get(URL, headers=header)\n",
    "\n",
    "soup1= BeautifulSoup(page.content,\"html.parser\")\n",
    "\n",
    "soup2=BeautifulSoup(soup1.prettify(),\"html.parser\")\n",
    "\n",
    "title = soup2.find(id=\"productTitle\").get_text().strip()\n",
    "\n",
    "price = soup2.find(class_=\"a-offscreen\").get_text().strip()\n",
    "\n",
    "star=soup2.find(class_=\"a-size-base a-color-base\").get_text().strip()\n",
    "print(title)\n",
    "print(price)\n",
    "print(star)\n",
    "\n",
    "\n",
    " "
   ]
  },
  {
   "cell_type": "code",
   "execution_count": 109,
   "id": "bc69d870-6066-4d72-be15-e404310f0897",
   "metadata": {},
   "outputs": [
    {
     "data": {
      "text/plain": [
       "str"
      ]
     },
     "execution_count": 109,
     "metadata": {},
     "output_type": "execute_result"
    }
   ],
   "source": [
    "type(price)"
   ]
  },
  {
   "cell_type": "code",
   "execution_count": 111,
   "id": "86970122-d63f-4f95-983a-21631c03ff52",
   "metadata": {},
   "outputs": [
    {
     "data": {
      "text/plain": [
       "list"
      ]
     },
     "execution_count": 111,
     "metadata": {},
     "output_type": "execute_result"
    }
   ],
   "source": [
    "import csv\n",
    "\n",
    "header =['Title','Price ']\n",
    "\n",
    "data=[title,price]\n",
    "\n",
    "with open('AmazonWenScrap.csv','w',newline='',encoding='UTF8') as file:\n",
    "    writer= csv.writer(file)\n",
    "    writer.writerow(header)\n",
    "    writer\n",
    "    \n",
    "\n"
   ]
  },
  {
   "cell_type": "code",
   "execution_count": null,
   "id": "fb049657-e794-489c-9778-bfde1f986a88",
   "metadata": {},
   "outputs": [],
   "source": []
  }
 ],
 "metadata": {
  "kernelspec": {
   "display_name": "Python 3 (ipykernel)",
   "language": "python",
   "name": "python3"
  },
  "language_info": {
   "codemirror_mode": {
    "name": "ipython",
    "version": 3
   },
   "file_extension": ".py",
   "mimetype": "text/x-python",
   "name": "python",
   "nbconvert_exporter": "python",
   "pygments_lexer": "ipython3",
   "version": "3.12.4"
  }
 },
 "nbformat": 4,
 "nbformat_minor": 5
}
